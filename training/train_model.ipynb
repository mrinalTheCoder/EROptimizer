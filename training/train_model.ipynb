{
 "cells": [
  {
   "cell_type": "code",
   "execution_count": 1,
   "id": "84db7921-7974-4ee4-bf41-739dade3516b",
   "metadata": {},
   "outputs": [],
   "source": [
    "import numpy as np\n",
    "import tensorflow as tf\n",
    "import matplotlib.pyplot as plt\n",
    "import pandas as pd"
   ]
  },
  {
   "cell_type": "code",
   "execution_count": 2,
   "id": "17ebe40b-2c32-4ffd-99dd-0a0b915c6950",
   "metadata": {},
   "outputs": [
    {
     "name": "stderr",
     "output_type": "stream",
     "text": [
      "/var/folders/f7/j7gv0q6n75n9w5bkr2kqqsz40000gn/T/ipykernel_21431/3680696123.py:3: FutureWarning: A value is trying to be set on a copy of a DataFrame or Series through chained assignment using an inplace method.\n",
      "The behavior will change in pandas 3.0. This inplace method will never work because the intermediate object on which we are setting values always behaves as a copy.\n",
      "\n",
      "For example, when doing 'df[col].method(value, inplace=True)', try using 'df.method({col: value}, inplace=True)' or df[col] = df[col].method(value) instead, to perform the operation inplace on the original object.\n",
      "\n",
      "\n",
      "  df['gender'].replace([\"Male\", \"Female\"], [0, 1], inplace=True)\n",
      "/var/folders/f7/j7gv0q6n75n9w5bkr2kqqsz40000gn/T/ipykernel_21431/3680696123.py:3: FutureWarning: Downcasting behavior in `replace` is deprecated and will be removed in a future version. To retain the old behavior, explicitly call `result.infer_objects(copy=False)`. To opt-in to the future behavior, set `pd.set_option('future.no_silent_downcasting', True)`\n",
      "  df['gender'].replace([\"Male\", \"Female\"], [0, 1], inplace=True)\n"
     ]
    }
   ],
   "source": [
    "df = pd.read_csv(\"cleaned_data.csv\")\n",
    "df = df.sample(frac=1)\n",
    "df['gender'].replace([\"Male\", \"Female\"], [0, 1], inplace=True)"
   ]
  },
  {
   "cell_type": "code",
   "execution_count": 3,
   "id": "fa9dc68c-3728-4543-8cdb-b385086aa68c",
   "metadata": {},
   "outputs": [],
   "source": [
    "cc_cols = [x for x in df.columns if x[:3] == \"cc_\"]\n",
    "med_cols = [x for x in df.columns if x[:5] == \"meds_\"]\n",
    "with open(\"pmh_cols.txt\") as f:\n",
    "    pmh_cols = f.readlines()\n",
    "pmh_cols = list(map(lambda x:x[:-1], pmh_cols))\n",
    "\n",
    "x_cols = [\"age\", \"gender\"] + cc_cols + pmh_cols\n",
    "y_cols = [\"disposition\"] + med_cols\n",
    "\n",
    "esi_data = pd.get_dummies(df['esi'], dtype=int)"
   ]
  },
  {
   "cell_type": "code",
   "execution_count": 4,
   "id": "cc64945c-a84d-4204-ac96-d07f45be86d6",
   "metadata": {},
   "outputs": [
    {
     "name": "stdout",
     "output_type": "stream",
     "text": [
      "(502216, 483)\n",
      "(502216, 5)\n",
      "\n",
      "(55802, 483)\n",
      "(55802, 5)\n"
     ]
    }
   ],
   "source": [
    "val_split = 0.9\n",
    "\n",
    "np_x_train = np.array(df[x_cols])[:int(val_split * df.shape[0]), :]\n",
    "np_esi_train = np.array(esi_data)[:int(val_split * df.shape[0]), :]\n",
    "\n",
    "np_x_val = np.array(df[x_cols])[int(val_split * df.shape[0]):, :]\n",
    "np_esi_val = np.array(esi_data)[int(val_split * df.shape[0]):, :]\n",
    "\n",
    "print(np_x_train.shape)\n",
    "print(np_esi_train.shape)\n",
    "print()\n",
    "print(np_x_val.shape)\n",
    "print(np_esi_val.shape)"
   ]
  },
  {
   "cell_type": "code",
   "execution_count": 5,
   "id": "2d1dc2eb-9bb1-4628-98c6-b8ac06b74482",
   "metadata": {},
   "outputs": [
    {
     "name": "stderr",
     "output_type": "stream",
     "text": [
      "WARNING:absl:At this time, the v2.11+ optimizer `tf.keras.optimizers.Adam` runs slowly on M1/M2 Macs, please use the legacy Keras optimizer instead, located at `tf.keras.optimizers.legacy.Adam`.\n",
      "WARNING:absl:There is a known slowdown when using v2.11+ Keras optimizers on M1/M2 Macs. Falling back to the legacy Keras optimizer, i.e., `tf.keras.optimizers.legacy.Adam`.\n"
     ]
    }
   ],
   "source": [
    "gen_model = tf.keras.Sequential([\n",
    "    tf.keras.layers.Input(483),\n",
    "    tf.keras.layers.Dense(100, activation=\"relu\"),\n",
    "    tf.keras.layers.Dense(49, activation=\"softmax\")\n",
    "])\n",
    "\n",
    "gen_model.compile(\n",
    "    loss=\"binary_crossentropy\",\n",
    "    metrics=[\n",
    "        tf.keras.metrics.AUC(curve=\"PR\"),\n",
    "        tf.keras.metrics.Precision(),\n",
    "        tf.keras.metrics.Recall()\n",
    "    ],\n",
    "    optimizer=tf.keras.optimizers.Adam(learning_rate=0.001)\n",
    ")"
   ]
  },
  {
   "cell_type": "code",
   "execution_count": 6,
   "id": "b2c406a9-4c93-4bd4-b488-bccb94b9bd4b",
   "metadata": {},
   "outputs": [
    {
     "name": "stderr",
     "output_type": "stream",
     "text": [
      "WARNING:absl:At this time, the v2.11+ optimizer `tf.keras.optimizers.Adam` runs slowly on M1/M2 Macs, please use the legacy Keras optimizer instead, located at `tf.keras.optimizers.legacy.Adam`.\n",
      "WARNING:absl:There is a known slowdown when using v2.11+ Keras optimizers on M1/M2 Macs. Falling back to the legacy Keras optimizer, i.e., `tf.keras.optimizers.legacy.Adam`.\n"
     ]
    }
   ],
   "source": [
    "lr_schedule = tf.keras.optimizers.schedules.ExponentialDecay(\n",
    "    0.01, decay_steps=5, decay_rate=0.99, staircase=True\n",
    ")\n",
    "\n",
    "esi_model = tf.keras.Sequential([\n",
    "    tf.keras.layers.Input(483),\n",
    "    tf.keras.layers.Dense(200, activation=\"relu\"),\n",
    "    tf.keras.layers.Dense(100, activation=\"relu\"),\n",
    "    tf.keras.layers.Dense(5, activation=\"softmax\")\n",
    "])\n",
    "\n",
    "esi_model.compile(\n",
    "    loss=\"categorical_crossentropy\",\n",
    "    metrics=[\"accuracy\"],\n",
    "    optimizer=tf.keras.optimizers.Adam(learning_rate=0.01)\n",
    ")"
   ]
  },
  {
   "cell_type": "code",
   "execution_count": 7,
   "id": "540cafd8-8f8f-4640-bfee-35ff5dcad62a",
   "metadata": {},
   "outputs": [
    {
     "name": "stdout",
     "output_type": "stream",
     "text": [
      "Model: \"sequential_1\"\n",
      "_________________________________________________________________\n",
      " Layer (type)                Output Shape              Param #   \n",
      "=================================================================\n",
      " dense_2 (Dense)             (None, 200)               96800     \n",
      "                                                                 \n",
      " dense_3 (Dense)             (None, 100)               20100     \n",
      "                                                                 \n",
      " dense_4 (Dense)             (None, 5)                 505       \n",
      "                                                                 \n",
      "=================================================================\n",
      "Total params: 117,405\n",
      "Trainable params: 117,405\n",
      "Non-trainable params: 0\n",
      "_________________________________________________________________\n"
     ]
    }
   ],
   "source": [
    "esi_model.summary()"
   ]
  },
  {
   "cell_type": "code",
   "execution_count": 8,
   "id": "4a475c64-393f-46f3-82b9-bc7f7a1019ae",
   "metadata": {},
   "outputs": [
    {
     "name": "stdout",
     "output_type": "stream",
     "text": [
      "Epoch 1/10\n",
      "    1/31389 [..............................] - ETA: 1:11:25 - loss: 2.3910 - accuracy: 0.0000e+00"
     ]
    },
    {
     "name": "stderr",
     "output_type": "stream",
     "text": [
      "2024-02-09 23:16:44.545102: W tensorflow/tsl/platform/profile_utils/cpu_utils.cc:128] Failed to get CPU frequency: 0 Hz\n"
     ]
    },
    {
     "name": "stdout",
     "output_type": "stream",
     "text": [
      "31389/31389 [==============================] - 20s 643us/step - loss: 0.8752 - accuracy: 0.6311 - val_loss: 0.8570 - val_accuracy: 0.6356\n",
      "Epoch 2/10\n",
      "31389/31389 [==============================] - 20s 638us/step - loss: 0.8555 - accuracy: 0.6395 - val_loss: 0.8580 - val_accuracy: 0.6471\n",
      "Epoch 3/10\n",
      "31389/31389 [==============================] - 20s 640us/step - loss: 0.8533 - accuracy: 0.6406 - val_loss: 0.8421 - val_accuracy: 0.6465\n",
      "Epoch 4/10\n",
      "31389/31389 [==============================] - 20s 641us/step - loss: 0.8510 - accuracy: 0.6408 - val_loss: 0.8435 - val_accuracy: 0.6484\n",
      "Epoch 5/10\n",
      "31389/31389 [==============================] - 20s 637us/step - loss: 0.8511 - accuracy: 0.6413 - val_loss: 0.8499 - val_accuracy: 0.6461\n",
      "Epoch 6/10\n",
      "31389/31389 [==============================] - 20s 638us/step - loss: 0.8511 - accuracy: 0.6417 - val_loss: 0.8503 - val_accuracy: 0.6433\n",
      "Epoch 7/10\n",
      "31389/31389 [==============================] - 20s 634us/step - loss: 0.8508 - accuracy: 0.6422 - val_loss: 0.8574 - val_accuracy: 0.6479\n",
      "Epoch 8/10\n",
      "31389/31389 [==============================] - 21s 665us/step - loss: 0.8509 - accuracy: 0.6427 - val_loss: 0.8665 - val_accuracy: 0.6462\n",
      "Epoch 9/10\n",
      "31389/31389 [==============================] - 21s 669us/step - loss: 0.8506 - accuracy: 0.6427 - val_loss: 0.8646 - val_accuracy: 0.6307\n",
      "Epoch 10/10\n",
      "31389/31389 [==============================] - 21s 669us/step - loss: 0.8507 - accuracy: 0.6422 - val_loss: 0.8666 - val_accuracy: 0.6443\n"
     ]
    },
    {
     "data": {
      "text/plain": [
       "<keras.callbacks.History at 0x2bf3bda90>"
      ]
     },
     "execution_count": 8,
     "metadata": {},
     "output_type": "execute_result"
    }
   ],
   "source": [
    "esi_model.fit(\n",
    "    x=np_x_train,\n",
    "    y=np_esi_train,\n",
    "    epochs=10,\n",
    "    validation_data=(np_x_val, np_esi_val),\n",
    "    batch_size=16,\n",
    ")"
   ]
  },
  {
   "cell_type": "code",
   "execution_count": null,
   "id": "105f0a21-086b-4a88-931e-d852002abbfb",
   "metadata": {},
   "outputs": [],
   "source": []
  }
 ],
 "metadata": {
  "kernelspec": {
   "display_name": "Python 3 (ipykernel)",
   "language": "python",
   "name": "python3"
  },
  "language_info": {
   "codemirror_mode": {
    "name": "ipython",
    "version": 3
   },
   "file_extension": ".py",
   "mimetype": "text/x-python",
   "name": "python",
   "nbconvert_exporter": "python",
   "pygments_lexer": "ipython3",
   "version": "3.11.5"
  }
 },
 "nbformat": 4,
 "nbformat_minor": 5
}
