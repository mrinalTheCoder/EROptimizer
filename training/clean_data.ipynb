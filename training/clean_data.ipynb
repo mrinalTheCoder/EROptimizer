{
 "cells": [
  {
   "cell_type": "code",
   "execution_count": 3,
   "id": "fbaae91e-211f-4762-ac4b-64073306b433",
   "metadata": {},
   "outputs": [],
   "source": [
    "import pandas as pd"
   ]
  },
  {
   "cell_type": "code",
   "execution_count": 4,
   "id": "da6f3511-17af-49d4-8b8d-87b1596b058a",
   "metadata": {},
   "outputs": [],
   "source": [
    "df = pd.read_csv(\"./triage.csv\")"
   ]
  },
  {
   "cell_type": "code",
   "execution_count": 5,
   "id": "50b807ec-a5b6-4726-b2e2-0dc95ebeee6c",
   "metadata": {},
   "outputs": [],
   "source": [
    "cc_cols = [x for x in df.columns if x[:3] == \"cc_\"]\n",
    "med_cols = [x for x in df.columns if x[:5] == \"meds_\"]\n",
    "with open(\"pmh_cols.txt\") as f:\n",
    "    pmh_cols = f.readlines()\n",
    "pmh_cols = list(map(lambda x:x[:-1], pmh_cols))\n",
    "\n",
    "x_cols = [\"age\", \"gender\"] + cc_cols + pmh_cols\n",
    "y_cols = [\"disposition\", \"esi\"] + med_cols\n",
    "\n",
    "training_df = df[x_cols + y_cols]"
   ]
  },
  {
   "cell_type": "code",
   "execution_count": 6,
   "id": "b00dda51-0de8-4cc0-a7e7-c506d0a4cb9a",
   "metadata": {},
   "outputs": [
    {
     "name": "stderr",
     "output_type": "stream",
     "text": [
      "/var/folders/kr/qxy7tp394rsgj_p1hpj7gnx80000gn/T/ipykernel_4230/1030417187.py:1: SettingWithCopyWarning: \n",
      "A value is trying to be set on a copy of a slice from a DataFrame\n",
      "\n",
      "See the caveats in the documentation: https://pandas.pydata.org/pandas-docs/stable/user_guide/indexing.html#returning-a-view-versus-a-copy\n",
      "  training_df.dropna(subset=[\"age\", \"esi\"], inplace=True)\n",
      "/var/folders/kr/qxy7tp394rsgj_p1hpj7gnx80000gn/T/ipykernel_4230/1030417187.py:2: SettingWithCopyWarning: \n",
      "A value is trying to be set on a copy of a slice from a DataFrame\n",
      "\n",
      "See the caveats in the documentation: https://pandas.pydata.org/pandas-docs/stable/user_guide/indexing.html#returning-a-view-versus-a-copy\n",
      "  training_df.fillna(value=0, inplace=True)\n"
     ]
    }
   ],
   "source": [
    "training_df.dropna(subset=[\"age\", \"esi\"], inplace=True)\n",
    "training_df.fillna(value=0, inplace=True)"
   ]
  },
  {
   "cell_type": "code",
   "execution_count": 7,
   "id": "46dc644c-7b0d-4fd0-926d-46e71233c401",
   "metadata": {},
   "outputs": [],
   "source": [
    "training_df.to_csv(\"cleaned_data.csv\", index=False)"
   ]
  },
  {
   "cell_type": "code",
   "execution_count": 16,
   "id": "01f27ea7-d668-4df2-8230-be9148113c4e",
   "metadata": {},
   "outputs": [
    {
     "data": {
      "text/plain": [
       "483"
      ]
     },
     "execution_count": 16,
     "metadata": {},
     "output_type": "execute_result"
    }
   ],
   "source": [
    "len(x_cols)"
   ]
  },
  {
   "cell_type": "code",
   "execution_count": 17,
   "id": "201eec72-43d4-41c3-a243-22343e0abaeb",
   "metadata": {},
   "outputs": [
    {
     "data": {
      "text/plain": [
       "50"
      ]
     },
     "execution_count": 17,
     "metadata": {},
     "output_type": "execute_result"
    }
   ],
   "source": [
    "len(y_cols)"
   ]
  },
  {
   "cell_type": "code",
   "execution_count": 18,
   "id": "f2d44e50-4a17-421d-896a-1f15702a2c7f",
   "metadata": {},
   "outputs": [
    {
     "data": {
      "text/plain": [
       "array([4., 2., 3., 1., 5.])"
      ]
     },
     "execution_count": 18,
     "metadata": {},
     "output_type": "execute_result"
    }
   ],
   "source": [
    "training_df['esi'].unique()"
   ]
  },
  {
   "cell_type": "code",
   "execution_count": null,
   "id": "07c5488f-de0d-435e-8414-d624b84f95e5",
   "metadata": {},
   "outputs": [],
   "source": []
  }
 ],
 "metadata": {
  "kernelspec": {
   "display_name": "Python 3 (ipykernel)",
   "language": "python",
   "name": "python3"
  },
  "language_info": {
   "codemirror_mode": {
    "name": "ipython",
    "version": 3
   },
   "file_extension": ".py",
   "mimetype": "text/x-python",
   "name": "python",
   "nbconvert_exporter": "python",
   "pygments_lexer": "ipython3",
   "version": "3.11.5"
  }
 },
 "nbformat": 4,
 "nbformat_minor": 5
}
