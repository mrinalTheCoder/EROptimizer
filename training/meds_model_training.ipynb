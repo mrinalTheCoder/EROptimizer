{
 "cells": [
  {
   "cell_type": "code",
   "execution_count": null,
   "id": "54472146-f4be-441c-ba63-d3e37942810b",
   "metadata": {},
   "outputs": [],
   "source": [
    "import numpy as np\n",
    "import pandas as pd\n",
    "import tensorflow as tf"
   ]
  },
  {
   "cell_type": "code",
   "execution_count": null,
   "id": "db0465b9-741e-4291-9026-921986b32753",
   "metadata": {},
   "outputs": [],
   "source": [
    "df = pd.read_csv(\"cleaned_data.csv\")\n",
    "df = df.sample(frac=1)\n",
    "df['gender'].replace([\"Male\", \"Female\"], [0, 1], inplace=True)\n",
    "df['disposition'].replace([\"Discharge\", \"Admit\"], [0,  1], inplace=True)\n",
    "df['esi'] = df['esi'] - 1\n",
    "df['age'] = df['age'] / 100"
   ]
  },
  {
   "cell_type": "code",
   "execution_count": null,
   "id": "e6947d4f-9f44-4e90-a588-ee5b1f1666d5",
   "metadata": {},
   "outputs": [],
   "source": [
    "cc_cols = [x for x in df.columns if x[:3] == \"cc_\"]\n",
    "med_cols = [x for x in df.columns if x[:5] == \"meds_\"]\n",
    "with open(\"pmh_cols.txt\") as f:\n",
    "    pmh_cols = f.readlines()\n",
    "pmh_cols = list(map(lambda x: x[:-1], pmh_cols))\n",
    "\n",
    "x_cols = [\"age\", \"gender\"] + cc_cols + pmh_cols\n",
    "y_cols = [\"disposition\"] + med_cols"
   ]
  },
  {
   "cell_type": "code",
   "execution_count": null,
   "id": "03f881ca-f11e-4d78-b146-71005b2e2537",
   "metadata": {},
   "outputs": [],
   "source": [
    "val_split = 0.9\n",
    "\n",
    "np_x_train = np.array(df[x_cols])[:int(val_split * df.shape[0]), :]\n",
    "np_y_train = np.array(df[y_cols])[:int(val_split * df.shape[0]), :]\n",
    "\n",
    "np_x_val = np.array(df[x_cols])[int(val_split * df.shape[0]):, :]\n",
    "np_y_val = np.array(df[y_cols])[int(val_split * df.shape[0]):, :]"
   ]
  },
  {
   "cell_type": "code",
   "execution_count": null,
   "id": "d47df26c-156d-4e71-9649-6a60a41cff52",
   "metadata": {},
   "outputs": [],
   "source": [
    "gen_model = tf.keras.Sequential([\n",
    "    tf.keras.layers.Input(483),\n",
    "    tf.keras.layers.Dense(300, activation=\"relu\"),\n",
    "    tf.keras.layers.BatchNormalization(),\n",
    "    tf.keras.layers.Dense(200, activation=\"relu\"),\n",
    "    tf.keras.layers.BatchNormalization(),\n",
    "    tf.keras.layers.Dense(100, activation=\"relu\"),\n",
    "    tf.keras.layers.BatchNormalization(),\n",
    "    tf.keras.layers.Dense(49, activation=\"sigmoid\")\n",
    "])\n",
    "\n",
    "smooth = 1.\n",
    "def dice_coef(y_true, y_pred):\n",
    "    y_true_f = tf.keras.backend.flatten(y_true)\n",
    "    y_pred_f = tf.keras.backend.flatten(y_pred)\n",
    "    intersection = tf.keras.backend.sum(y_true_f * y_pred_f)\n",
    "    return (2. * intersection + smooth) / (tf.keras.backend.sum(y_true_f) + tf.keras.backend.sum(y_pred_f) + smooth)\n",
    "\n",
    "def dice_coef_loss(y_true, y_pred):\n",
    "    return 1-dice_coef(y_true, y_pred)\n",
    "\n",
    "lr_schedule = tf.keras.optimizers.schedules.ExponentialDecay(\n",
    "    0.001, decay_steps=15, decay_rate=0.96, staircase=True\n",
    ")\n",
    "\n",
    "gen_model.compile(\n",
    "    optimizer=tf.keras.optimizers.Adam(learning_rate=lr_schedule),\n",
    "    loss=dice_coef_loss,\n",
    "    metrics=[\n",
    "        dice_coef,\n",
    "        tf.keras.metrics.AUC(curve=\"PR\"),\n",
    "        tf.keras.metrics.Precision(),\n",
    "        tf.keras.metrics.Recall()\n",
    "    ]\n",
    ")"
   ]
  },
  {
   "cell_type": "code",
   "execution_count": null,
   "id": "1559b7f5-5066-456a-a1f3-c931e6cac1ff",
   "metadata": {},
   "outputs": [],
   "source": [
    "gen_model.fit(\n",
    "    x=np_x_train,\n",
    "    y=np_y_train,\n",
    "    epochs=30,\n",
    "    validation_data=(np_x_val, np_y_val),\n",
    "    batch_size=32,\n",
    "    callbacks=[tf.keras.callbacks.ModelCheckpoint(\n",
    "        \"./model_best.h5\",\n",
    "        save_weights_only=True,\n",
    "        save_best_only=True\n",
    "    )]\n",
    ")"
   ]
  },
  {
   "cell_type": "code",
   "execution_count": null,
   "id": "59c0d832-c3b5-4e97-99a2-ffda9c27f3e9",
   "metadata": {},
   "outputs": [],
   "source": []
  }
 ],
 "metadata": {
  "kernelspec": {
   "display_name": "Python 3 (ipykernel)",
   "language": "python",
   "name": "python3"
  },
  "language_info": {
   "codemirror_mode": {
    "name": "ipython",
    "version": 3
   },
   "file_extension": ".py",
   "mimetype": "text/x-python",
   "name": "python",
   "nbconvert_exporter": "python",
   "pygments_lexer": "ipython3",
   "version": "3.11.5"
  }
 },
 "nbformat": 4,
 "nbformat_minor": 5
}
