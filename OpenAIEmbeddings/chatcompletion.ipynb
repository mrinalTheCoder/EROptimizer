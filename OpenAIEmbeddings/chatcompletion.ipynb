{
 "cells": [
  {
   "cell_type": "code",
   "execution_count": 6,
   "metadata": {},
   "outputs": [
    {
     "name": "stdout",
     "output_type": "stream",
     "text": [
      "Requirement already satisfied: openai in /Users/kaustubhbhal/miniconda3/lib/python3.11/site-packages (1.12.0)\n",
      "Requirement already satisfied: anyio<5,>=3.5.0 in /Users/kaustubhbhal/miniconda3/lib/python3.11/site-packages (from openai) (4.0.0)\n",
      "Requirement already satisfied: distro<2,>=1.7.0 in /Users/kaustubhbhal/miniconda3/lib/python3.11/site-packages (from openai) (1.9.0)\n",
      "Requirement already satisfied: httpx<1,>=0.23.0 in /Users/kaustubhbhal/miniconda3/lib/python3.11/site-packages (from openai) (0.26.0)\n",
      "Requirement already satisfied: pydantic<3,>=1.9.0 in /Users/kaustubhbhal/miniconda3/lib/python3.11/site-packages (from openai) (2.6.1)\n",
      "Requirement already satisfied: sniffio in /Users/kaustubhbhal/miniconda3/lib/python3.11/site-packages (from openai) (1.3.0)\n",
      "Requirement already satisfied: tqdm>4 in /Users/kaustubhbhal/miniconda3/lib/python3.11/site-packages (from openai) (4.65.0)\n",
      "Requirement already satisfied: typing-extensions<5,>=4.7 in /Users/kaustubhbhal/miniconda3/lib/python3.11/site-packages (from openai) (4.9.0)\n",
      "Requirement already satisfied: idna>=2.8 in /Users/kaustubhbhal/miniconda3/lib/python3.11/site-packages (from anyio<5,>=3.5.0->openai) (3.4)\n",
      "Requirement already satisfied: certifi in /Users/kaustubhbhal/miniconda3/lib/python3.11/site-packages (from httpx<1,>=0.23.0->openai) (2023.7.22)\n",
      "Requirement already satisfied: httpcore==1.* in /Users/kaustubhbhal/miniconda3/lib/python3.11/site-packages (from httpx<1,>=0.23.0->openai) (1.0.2)\n",
      "Requirement already satisfied: h11<0.15,>=0.13 in /Users/kaustubhbhal/miniconda3/lib/python3.11/site-packages (from httpcore==1.*->httpx<1,>=0.23.0->openai) (0.14.0)\n",
      "Requirement already satisfied: annotated-types>=0.4.0 in /Users/kaustubhbhal/miniconda3/lib/python3.11/site-packages (from pydantic<3,>=1.9.0->openai) (0.6.0)\n",
      "Requirement already satisfied: pydantic-core==2.16.2 in /Users/kaustubhbhal/miniconda3/lib/python3.11/site-packages (from pydantic<3,>=1.9.0->openai) (2.16.2)\n",
      "Note: you may need to restart the kernel to use updated packages.\n",
      "Requirement already satisfied: python-dotenv in /Users/kaustubhbhal/miniconda3/lib/python3.11/site-packages (1.0.1)\n",
      "Note: you may need to restart the kernel to use updated packages.\n"
     ]
    }
   ],
   "source": [
    "# if needed, install and/or upgrade to the latest version of the OpenAI Python library\n",
    "%pip install --upgrade openai\n",
    "%pip install python-dotenv"
   ]
  },
  {
   "cell_type": "code",
   "execution_count": 7,
   "metadata": {},
   "outputs": [],
   "source": [
    "# import the OpenAI Python library for calling the OpenAI API\n",
    "from openai import OpenAI\n",
    "import os\n",
    "from dotenv import load_dotenv\n",
    "import json\n",
    "\n",
    "load_dotenv()\n",
    "\n",
    "api_key2 = os.getenv(\"OPENAI_API_KEY\")\n",
    "\n",
    "client = OpenAI(api_key=api_key2)"
   ]
  },
  {
   "cell_type": "code",
   "execution_count": 8,
   "metadata": {},
   "outputs": [
    {
     "name": "stdout",
     "output_type": "stream",
     "text": [
      "I am a 94 year old female with back pain and chest pain, I have a history of diabetes. Please help.\n"
     ]
    }
   ],
   "source": [
    "import json\n",
    "\n",
    "# Function to parse the content string and extract information\n",
    "def parse_content(content_string):\n",
    "    info = {}\n",
    "    lines = content_string.split(\"\\n\")\n",
    "    for line in lines:\n",
    "        key, value = line.split(\": \")\n",
    "        info[key.strip()] = value.strip()\n",
    "    return info\n",
    "\n",
    "file_path = \"../OpenAIEmbeddings/audio.txt\"\n",
    "\n",
    "with open(file_path, \"r\") as file:\n",
    "    # Initialize an empty string to store concatenated lines\n",
    "    concatenated_text = \"\"\n",
    "    \n",
    "    # Read each line and append it to the concatenated text\n",
    "    for line in file:\n",
    "        concatenated_text += line.strip()  # Remove leading and trailing whitespace\n",
    "\n",
    "print(concatenated_text)\n",
    "\n",
    "# Example OpenAI Python library request\n",
    "MODEL = \"gpt-3.5-turbo\"\n",
    "response = client.chat.completions.create(\n",
    "    model=MODEL,\n",
    "    messages=[\n",
    "        {\"role\": \"system\", \"content\": \"Given the following speech to text transcription, please provide age as a number, gender, complaints, and past medical history. Omit any directional information, ex. broken left arm should just be broken arm\"},\n",
    "        {\"role\": \"user\", \"content\": concatenated_text},\n",
    "    ],\n",
    "    temperature=0,\n",
    ")\n",
    "\n",
    "# Extract the \"content\" string from the response\n",
    "response_json = json.loads(response.model_dump_json())\n",
    "content_string = response_json['choices'][0]['message']['content']\n",
    "\n",
    "# Parse the content string and extract information\n",
    "info = parse_content(content_string)\n",
    "\n",
    "# Define the filename to save the output JSON\n",
    "output_filename = \"output.json\"\n",
    "\n",
    "# Write the extracted information to the output file\n",
    "with open(output_filename, \"w\") as output_file:\n",
    "    json.dump(info, output_file, indent=4)"
   ]
  },
  {
   "cell_type": "code",
   "execution_count": null,
   "metadata": {},
   "outputs": [],
   "source": []
  }
 ],
 "metadata": {
  "kernelspec": {
   "display_name": "base",
   "language": "python",
   "name": "python3"
  },
  "language_info": {
   "codemirror_mode": {
    "name": "ipython",
    "version": 3
   },
   "file_extension": ".py",
   "mimetype": "text/x-python",
   "name": "python",
   "nbconvert_exporter": "python",
   "pygments_lexer": "ipython3",
   "version": "3.11.5"
  }
 },
 "nbformat": 4,
 "nbformat_minor": 2
}
